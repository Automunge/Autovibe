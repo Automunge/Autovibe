{
 "cells": [
  {
   "cell_type": "code",
   "execution_count": 1,
   "id": "70e4f018-cf27-466e-b74b-27dbc7e4b90a",
   "metadata": {},
   "outputs": [
    {
     "name": "stdout",
     "output_type": "stream",
     "text": [
      "asdf\n"
     ]
    }
   ],
   "source": [
    "print('asdf')"
   ]
  },
  {
   "cell_type": "code",
   "execution_count": 2,
   "id": "5646bbbb-74e0-409f-83e3-f2d99cd27b03",
   "metadata": {},
   "outputs": [],
   "source": [
    "import pandas as pd"
   ]
  },
  {
   "cell_type": "code",
   "execution_count": 3,
   "id": "041decbf-94bc-45a9-b9a2-7e0086842f04",
   "metadata": {},
   "outputs": [
    {
     "data": {
      "text/html": [
       "<div>\n",
       "<style scoped>\n",
       "    .dataframe tbody tr th:only-of-type {\n",
       "        vertical-align: middle;\n",
       "    }\n",
       "\n",
       "    .dataframe tbody tr th {\n",
       "        vertical-align: top;\n",
       "    }\n",
       "\n",
       "    .dataframe thead th {\n",
       "        text-align: right;\n",
       "    }\n",
       "</style>\n",
       "<table border=\"1\" class=\"dataframe\">\n",
       "  <thead>\n",
       "    <tr style=\"text-align: right;\">\n",
       "      <th></th>\n",
       "      <th>one</th>\n",
       "      <th>two</th>\n",
       "    </tr>\n",
       "  </thead>\n",
       "  <tbody>\n",
       "    <tr>\n",
       "      <th>0</th>\n",
       "      <td>1</td>\n",
       "      <td>3</td>\n",
       "    </tr>\n",
       "    <tr>\n",
       "      <th>1</th>\n",
       "      <td>2</td>\n",
       "      <td>2</td>\n",
       "    </tr>\n",
       "    <tr>\n",
       "      <th>2</th>\n",
       "      <td>3</td>\n",
       "      <td>1</td>\n",
       "    </tr>\n",
       "  </tbody>\n",
       "</table>\n",
       "</div>"
      ],
      "text/plain": [
       "   one  two\n",
       "0    1    3\n",
       "1    2    2\n",
       "2    3    1"
      ]
     },
     "execution_count": 3,
     "metadata": {},
     "output_type": "execute_result"
    }
   ],
   "source": [
    "asdf = pd.DataFrame({'one':[1,2,3], 'two':[3,2,1]})\n",
    "asdf"
   ]
  },
  {
   "cell_type": "code",
   "execution_count": 4,
   "id": "dd5f4d18-f06f-4892-99ef-559b695f3df2",
   "metadata": {},
   "outputs": [],
   "source": [
    "import dimod\n",
    "import dwave.inspector\n",
    "import dwave.system"
   ]
  },
  {
   "cell_type": "code",
   "execution_count": 6,
   "id": "03f37c0b-4803-43e7-9a2e-01810df8f481",
   "metadata": {},
   "outputs": [],
   "source": [
    "bqm = dimod.generators.ran_r(1, 20)\n",
    "# sampler = dwave.system.EmbeddingComposite(dwave.system.DWaveSampler())\n",
    "# sampleset = sampler.sample(bqm, num_reads=100)\n",
    "# dwave.inspector.show(sampleset)"
   ]
  },
  {
   "cell_type": "code",
   "execution_count": 8,
   "id": "4b674872-cd64-43a6-8582-e80b0a231c41",
   "metadata": {},
   "outputs": [],
   "source": [
    "# bqm"
   ]
  },
  {
   "cell_type": "code",
   "execution_count": 9,
   "id": "21345a37-62e1-4e4d-8d13-0d7017db5825",
   "metadata": {},
   "outputs": [],
   "source": [
    "import os\n",
    "from openai import OpenAI\n",
    "\n",
    "# Initialize the OpenAI client\n",
    "client = OpenAI(api_key=os.getenv(\"OPENAI_KEY\"))"
   ]
  },
  {
   "cell_type": "code",
   "execution_count": 10,
   "id": "d4042850-a35c-42d8-872c-9422474fee2c",
   "metadata": {},
   "outputs": [],
   "source": [
    "# #show what models are available to the coding session\n",
    "# models = client.models.list()\n",
    "\n",
    "# # Print model IDs\n",
    "# for model in models.data:\n",
    "#     print(model.id)"
   ]
  },
  {
   "cell_type": "code",
   "execution_count": 11,
   "id": "bf1ae27c-f08c-40e3-b24c-8398de750bb6",
   "metadata": {},
   "outputs": [
    {
     "name": "stdout",
     "output_type": "stream",
     "text": [
      "Here's a useful Python tip: \n",
      "\n",
      "**Use list comprehensions for concise and readable loops.**\n",
      "\n",
      "Instead of writing:\n",
      "\n",
      "```python\n",
      "squares = []\n",
      "for x in range(10):\n",
      "    squares.append(x**2)\n",
      "```\n",
      "\n",
      "You can write:\n",
      "\n",
      "```python\n",
      "squares = [x**2 for x in range(10)]\n",
      "```\n",
      "\n",
      "This is more compact and often faster. Plus, it improves code readability!\n"
     ]
    }
   ],
   "source": [
    "#quickstart demonstration of openai chat completion\n",
    "response = client.chat.completions.create(\n",
    "    model=\"gpt-4.1-mini\",  # or \"gpt-3.5-turbo\"\n",
    "    messages=[\n",
    "        {\"role\": \"system\", \"content\": \"You are a helpful assistant.\"},\n",
    "        {\"role\": \"user\", \"content\": \"What's a good Python tip?\"}\n",
    "    ],\n",
    "    temperature=0.7,\n",
    "    max_tokens=100\n",
    ")\n",
    "\n",
    "# Extract and print the assistant's reply\n",
    "print(response.choices[0].message.content)"
   ]
  },
  {
   "cell_type": "code",
   "execution_count": null,
   "id": "910866cf-0440-416d-ba53-c056171d543a",
   "metadata": {},
   "outputs": [],
   "source": []
  }
 ],
 "metadata": {
  "kernelspec": {
   "display_name": "Python 3 (ipykernel)",
   "language": "python",
   "name": "python3"
  },
  "language_info": {
   "codemirror_mode": {
    "name": "ipython",
    "version": 3
   },
   "file_extension": ".py",
   "mimetype": "text/x-python",
   "name": "python",
   "nbconvert_exporter": "python",
   "pygments_lexer": "ipython3",
   "version": "3.11.4"
  }
 },
 "nbformat": 4,
 "nbformat_minor": 5
}
